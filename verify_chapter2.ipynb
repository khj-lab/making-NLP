{
 "cells": [
  {
   "cell_type": "code",
   "execution_count": 1,
   "metadata": {},
   "outputs": [],
   "source": [
    "import numpy as np\n",
    "import matplotlib.pyplot as plt\n",
    "\n",
    "from common.util import (\n",
    "    preprocess, \n",
    "    create_co_matrix,\n",
    "    cos_similarity,\n",
    "    most_similar,\n",
    "    ppmi,\n",
    ")"
   ]
  },
  {
   "cell_type": "code",
   "execution_count": 2,
   "metadata": {},
   "outputs": [
    {
     "data": {
      "text/plain": [
       "0.7071067758832467"
      ]
     },
     "execution_count": 2,
     "metadata": {},
     "output_type": "execute_result"
    }
   ],
   "source": [
    "text = \"You say goodbye and I say hello.\"\n",
    "\n",
    "corpus, word_to_id, id_to_word = preprocess(text)\n",
    "vocab_size = len(word_to_id)\n",
    "C = create_co_matrix(corpus, vocab_size)\n",
    "\n",
    "c0 = C[word_to_id[\"you\"]]\n",
    "c1 = C[word_to_id[\"i\"]]\n",
    "cos_similarity(c0, c1)"
   ]
  },
  {
   "cell_type": "code",
   "execution_count": 3,
   "metadata": {},
   "outputs": [
    {
     "name": "stdout",
     "output_type": "stream",
     "text": [
      "\n",
      "[query] you\n",
      " goodbye: 0.7071067758832467\n",
      " i: 0.7071067758832467\n",
      " hello: 0.7071067758832467\n",
      " say: 0.0\n",
      " and: 0.0\n"
     ]
    }
   ],
   "source": [
    "most_similar(\"you\", word_to_id, id_to_word, C, top=5)"
   ]
  },
  {
   "cell_type": "code",
   "execution_count": 4,
   "metadata": {},
   "outputs": [
    {
     "name": "stdout",
     "output_type": "stream",
     "text": [
      "mine is not found\n"
     ]
    }
   ],
   "source": [
    "most_similar(\"mine\", word_to_id, id_to_word, C, top=5)"
   ]
  },
  {
   "cell_type": "code",
   "execution_count": 5,
   "metadata": {},
   "outputs": [
    {
     "name": "stdout",
     "output_type": "stream",
     "text": [
      "covariance matrix\n",
      "[[0 1 0 0 0 0 0]\n",
      " [1 0 1 0 1 1 0]\n",
      " [0 1 0 1 0 0 0]\n",
      " [0 0 1 0 1 0 0]\n",
      " [0 1 0 1 0 0 0]\n",
      " [0 1 0 0 0 0 1]\n",
      " [0 0 0 0 0 1 0]]\n",
      "--------------------------------------------------\n",
      "PPMI\n",
      "[[0.    1.807 0.    0.    0.    0.    0.   ]\n",
      " [1.807 0.    0.807 0.    0.807 0.807 0.   ]\n",
      " [0.    0.807 0.    1.807 0.    0.    0.   ]\n",
      " [0.    0.    1.807 0.    1.807 0.    0.   ]\n",
      " [0.    0.807 0.    1.807 0.    0.    0.   ]\n",
      " [0.    0.807 0.    0.    0.    0.    2.807]\n",
      " [0.    0.    0.    0.    0.    2.807 0.   ]]\n"
     ]
    }
   ],
   "source": [
    "W = ppmi(C)\n",
    "\n",
    "np.set_printoptions(precision=3) # 有効数字3桁で表示\n",
    "print(\"covariance matrix\")\n",
    "print(C)\n",
    "print(\"-\" * 50)\n",
    "print(\"PPMI\")\n",
    "print(W)"
   ]
  },
  {
   "cell_type": "code",
   "execution_count": 6,
   "metadata": {},
   "outputs": [],
   "source": [
    "# SVDで次元削減\n",
    "# Uを単語空間として扱うことができる\n",
    "# Sは特異値が大きい順に並んでおり、重要度として解釈可能\n",
    "U, S, V = np.linalg.svd(W)"
   ]
  },
  {
   "cell_type": "code",
   "execution_count": 7,
   "metadata": {},
   "outputs": [
    {
     "name": "stdout",
     "output_type": "stream",
     "text": [
      "[0 1 0 0 0 0 0]\n",
      "[0.    1.807 0.    0.    0.    0.    0.   ]\n",
      "[ 0.000e+00  3.409e-01 -1.205e-01 -3.886e-16 -1.110e-16 -9.323e-01\n",
      " -2.426e-17]\n"
     ]
    }
   ],
   "source": [
    "print(C[0]) # 共起行列\n",
    "print(W[0]) # PPMI行列\n",
    "print(U[0]) # SVD"
   ]
  },
  {
   "cell_type": "code",
   "execution_count": 8,
   "metadata": {},
   "outputs": [
    {
     "data": {
      "text/plain": [
       "array([0.   , 0.341], dtype=float32)"
      ]
     },
     "execution_count": 8,
     "metadata": {},
     "output_type": "execute_result"
    }
   ],
   "source": [
    "# 実際に２次元のベクトルに次元削減は、\n",
    "# 先頭から２つの要素を取り出す\n",
    "U[0, :2]"
   ]
  },
  {
   "cell_type": "code",
   "execution_count": 9,
   "metadata": {},
   "outputs": [
    {
     "data": {
      "image/png": "[encoded data removed]",
      "text/plain": [
       "<Figure size 432x288 with 1 Axes>"
      ]
     },
     "metadata": {
      "needs_background": "light"
     },
     "output_type": "display_data"
    }
   ],
   "source": [
    "for word, word_id in word_to_id.items():\n",
    "    plt.annotate(word, (U[word_id, 0], U[word_id, 1]))\n",
    "    \n",
    "plt.scatter(U[:, 0], U[:, 1], alpha=0.5)\n",
    "plt.show()"
   ]
  },
  {
   "cell_type": "markdown",
   "metadata": {},
   "source": [
    "## ptbのコーパスを確認する\n",
    "\n",
    "- ptbコーパスはword2vecの開発者であるTomas Mikolov氏が公開している"
   ]
  },
  {
   "cell_type": "code",
   "execution_count": 10,
   "metadata": {},
   "outputs": [],
   "source": [
    "from data import ptb"
   ]
  },
  {
   "cell_type": "code",
   "execution_count": 11,
   "metadata": {},
   "outputs": [
    {
     "name": "stdout",
     "output_type": "stream",
     "text": [
      "corpus size:929589\n",
      "corpus[:30][ 0  1  2  3  4  5  6  7  8  9 10 11 12 13 14 15 16 17 18 19 20 21 22 23\n",
      " 24 25 26 27 28 29]\n",
      "\n",
      "id_to_word[0]:aer\n",
      "id_to_word[1]:banknote\n",
      "id_to_word[2]:berlitz\n",
      "\n",
      "word_to_id['car']:3856\n",
      "word_to_id['happy']:4428\n",
      "word_to_id['lexus']:7426\n"
     ]
    }
   ],
   "source": [
    "corpus, word_to_id, id_to_word = ptb.load_data(\"train\")\n",
    "\n",
    "print(f\"corpus size:{len(corpus)}\")\n",
    "print(f\"corpus[:30]{corpus[:30]}\\n\")\n",
    "print(f\"id_to_word[0]:{id_to_word[0]}\")\n",
    "print(f\"id_to_word[1]:{id_to_word[1]}\")\n",
    "print(f\"id_to_word[2]:{id_to_word[2]}\\n\")\n",
    "print(f\"word_to_id['car']:{word_to_id['car']}\")\n",
    "print(f\"word_to_id['happy']:{word_to_id['happy']}\")\n",
    "print(f\"word_to_id['lexus']:{word_to_id['lexus']}\")"
   ]
  },
  {
   "cell_type": "markdown",
   "metadata": {},
   "source": [
    "### ptbに今までの手法を適用する"
   ]
  },
  {
   "cell_type": "code",
   "execution_count": 13,
   "metadata": {},
   "outputs": [
    {
     "name": "stdout",
     "output_type": "stream",
     "text": [
      "counting co-occurrence ...\n",
      "calculating PPMI ...\n",
      "%.1f%% done 1.0\n",
      "%.1f%% done 2.0\n",
      "%.1f%% done 3.0\n",
      "%.1f%% done 4.0\n",
      "%.1f%% done 5.0\n",
      "%.1f%% done 6.0\n",
      "%.1f%% done 7.0\n",
      "%.1f%% done 8.0\n",
      "%.1f%% done 9.0\n",
      "%.1f%% done 10.0\n",
      "%.1f%% done 11.0\n",
      "%.1f%% done 12.0\n",
      "%.1f%% done 13.0\n",
      "%.1f%% done 14.0\n",
      "%.1f%% done 15.0\n",
      "%.1f%% done 16.0\n",
      "%.1f%% done 17.0\n",
      "%.1f%% done 18.0\n",
      "%.1f%% done 19.0\n",
      "%.1f%% done 20.0\n",
      "%.1f%% done 21.0\n",
      "%.1f%% done 22.0\n",
      "%.1f%% done 23.0\n",
      "%.1f%% done 24.0\n",
      "%.1f%% done 25.0\n",
      "%.1f%% done 26.0\n",
      "%.1f%% done 27.0\n",
      "%.1f%% done 28.0\n",
      "%.1f%% done 29.0\n",
      "%.1f%% done 30.0\n",
      "%.1f%% done 31.0\n",
      "%.1f%% done 32.0\n",
      "%.1f%% done 33.0\n",
      "%.1f%% done 34.0\n",
      "%.1f%% done 35.0\n",
      "%.1f%% done 36.0\n",
      "%.1f%% done 37.0\n",
      "%.1f%% done 38.0\n",
      "%.1f%% done 39.0\n",
      "%.1f%% done 40.0\n",
      "%.1f%% done 41.0\n",
      "%.1f%% done 42.0\n",
      "%.1f%% done 43.0\n",
      "%.1f%% done 44.0\n",
      "%.1f%% done 45.0\n",
      "%.1f%% done 46.0\n",
      "%.1f%% done 47.0\n",
      "%.1f%% done 48.0\n",
      "%.1f%% done 49.0\n",
      "%.1f%% done 50.0\n",
      "%.1f%% done 51.0\n",
      "%.1f%% done 52.0\n",
      "%.1f%% done 53.0\n",
      "%.1f%% done 54.0\n",
      "%.1f%% done 55.0\n",
      "%.1f%% done 56.0\n",
      "%.1f%% done 57.0\n",
      "%.1f%% done 58.0\n",
      "%.1f%% done 59.0\n",
      "%.1f%% done 60.0\n",
      "%.1f%% done 61.0\n",
      "%.1f%% done 62.0\n",
      "%.1f%% done 63.0\n",
      "%.1f%% done 64.0\n",
      "%.1f%% done 65.0\n",
      "%.1f%% done 66.0\n",
      "%.1f%% done 67.0\n",
      "%.1f%% done 68.0\n",
      "%.1f%% done 69.0\n",
      "%.1f%% done 70.0\n",
      "%.1f%% done 71.0\n",
      "%.1f%% done 72.0\n",
      "%.1f%% done 73.0\n",
      "%.1f%% done 74.0\n",
      "%.1f%% done 75.0\n",
      "%.1f%% done 76.0\n",
      "%.1f%% done 77.0\n",
      "%.1f%% done 78.0\n",
      "%.1f%% done 79.0\n",
      "%.1f%% done 80.0\n",
      "%.1f%% done 81.0\n",
      "%.1f%% done 82.0\n",
      "%.1f%% done 83.0\n",
      "%.1f%% done 84.0\n",
      "%.1f%% done 85.0\n",
      "%.1f%% done 86.0\n",
      "%.1f%% done 87.0\n",
      "%.1f%% done 88.0\n",
      "%.1f%% done 89.0\n",
      "%.1f%% done 90.0\n",
      "%.1f%% done 91.0\n",
      "%.1f%% done 92.0\n",
      "%.1f%% done 93.0\n",
      "%.1f%% done 94.0\n",
      "%.1f%% done 95.0\n",
      "%.1f%% done 96.0\n",
      "%.1f%% done 97.0\n",
      "%.1f%% done 98.0\n",
      "%.1f%% done 99.0\n",
      "%.1f%% done 100.0\n",
      "calculating SVD\n",
      "truncated SVD (faster than SVD)\n",
      "\n",
      "[query] you\n",
      " we: 0.6481757164001465\n",
      " i: 0.621014416217804\n",
      " anybody: 0.5766298174858093\n",
      " 'd: 0.5436310172080994\n",
      " do: 0.5360362529754639\n",
      "\n",
      "[query] year\n",
      " month: 0.6547021865844727\n",
      " quarter: 0.6327396035194397\n",
      " last: 0.6295785307884216\n",
      " earlier: 0.6228718161582947\n",
      " next: 0.593593180179596\n",
      "\n",
      "[query] car\n",
      " auto: 0.640131413936615\n",
      " luxury: 0.5907511115074158\n",
      " corsica: 0.49066048860549927\n",
      " lexus: 0.4769391119480133\n",
      " midsized: 0.46103498339653015\n",
      "\n",
      "[query] toyota\n",
      " motor: 0.7321903705596924\n",
      " motors: 0.6935248970985413\n",
      " nissan: 0.6798056960105896\n",
      " honda: 0.6353827714920044\n",
      " mazda: 0.5899596810340881\n"
     ]
    }
   ],
   "source": [
    "window_size = 2\n",
    "wordvec_size = 100\n",
    "\n",
    "corpus, word_to_id, id_to_word =  ptb.load_data(\"train\")\n",
    "vocab_size = len(word_to_id)\n",
    "print(\"counting co-occurrence ...\")\n",
    "C = create_co_matrix(corpus, vocab_size, window_size)\n",
    "print(\"calculating PPMI ...\")\n",
    "W = ppmi(C, verbose=True)\n",
    "\n",
    "print(\"calculating SVD\")\n",
    "try:\n",
    "    print(\"truncated SVD (faster than SVD)\")\n",
    "    from sklearn.utils.extmath import randomized_svd\n",
    "    U, S, V = randomized_svd(W, n_components=wordvec_size, n_iter=5,\n",
    "                             random_state=None)\n",
    "except ImportError:\n",
    "    print(\"SVD (slow)\")\n",
    "    U, S, V = np.linalg.svd(W)\n",
    "    \n",
    "word_vecs = U[:, :wordvec_size]\n",
    "\n",
    "querys = [\"you\", \"year\", \"car\", \"toyota\"]\n",
    "for query in querys:\n",
    "    most_similar(query, word_to_id, id_to_word, word_vecs, top=5)"
   ]
  },
  {
   "cell_type": "code",
   "execution_count": null,
   "metadata": {},
   "outputs": [],
   "source": []
  }
 ],
 "metadata": {
  "kernelspec": {
   "display_name": "Python 3",
   "language": "python",
   "name": "python3"
  },
  "language_info": {
   "codemirror_mode": {
    "name": "ipython",
    "version": 3
   },
   "file_extension": ".py",
   "mimetype": "text/x-python",
   "name": "python",
   "nbconvert_exporter": "python",
   "pygments_lexer": "ipython3",
   "version": "3.7.1"
  }
 },
 "nbformat": 4,
 "nbformat_minor": 4
}
